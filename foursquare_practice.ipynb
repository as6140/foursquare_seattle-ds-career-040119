{
 "cells": [
  {
   "cell_type": "code",
   "execution_count": 1,
   "metadata": {},
   "outputs": [],
   "source": [
    "import json\n",
    "import requests\n",
    "\n",
    "# Load secrets from credentials.json\n",
    "url = 'https://api.foursquare.com/v2/venues/explore'\n",
    "with open('.secrets/credentials.json') as f:\n",
    "    params = json.load(f) "
   ]
  },
  {
   "cell_type": "code",
   "execution_count": 40,
   "metadata": {},
   "outputs": [],
   "source": [
    "params['v'] = '20180323' # 'Version', code written as of documentation on march 23, 2018, API changes won't break code\n",
    "params['ll'] = '47.608,-122.337', #lat/long\n",
    "params['query'] = 'sushi', \n",
    "params['limit'] = 1000 #how many I want back"
   ]
  },
  {
   "cell_type": "code",
   "execution_count": 41,
   "metadata": {},
   "outputs": [],
   "source": [
    "response = requests.get(url=url, params=params)\n",
    "data = json.loads(response.text)"
   ]
  },
  {
   "cell_type": "code",
   "execution_count": 42,
   "metadata": {},
   "outputs": [
    {
     "data": {
      "text/plain": [
       "dict_keys(['meta', 'response'])"
      ]
     },
     "execution_count": 42,
     "metadata": {},
     "output_type": "execute_result"
    }
   ],
   "source": [
    "data.keys()"
   ]
  },
  {
   "cell_type": "code",
   "execution_count": 43,
   "metadata": {},
   "outputs": [
    {
     "data": {
      "text/plain": [
       "{'code': 200, 'requestId': '5cc21d5c4c1f674390d6f4f6'}"
      ]
     },
     "execution_count": 43,
     "metadata": {},
     "output_type": "execute_result"
    }
   ],
   "source": [
    "data['meta']"
   ]
  },
  {
   "cell_type": "code",
   "execution_count": 44,
   "metadata": {},
   "outputs": [
    {
     "data": {
      "text/plain": [
       "dict_keys(['suggestedFilters', 'suggestedRadius', 'headerLocation', 'headerFullLocation', 'headerLocationGranularity', 'query', 'totalResults', 'suggestedBounds', 'groups'])"
      ]
     },
     "execution_count": 44,
     "metadata": {},
     "output_type": "execute_result"
    }
   ],
   "source": [
    "data['response'].keys()"
   ]
  },
  {
   "cell_type": "code",
   "execution_count": 45,
   "metadata": {},
   "outputs": [],
   "source": [
    "results = data['response']['groups'][0]['items']"
   ]
  },
  {
   "cell_type": "code",
   "execution_count": null,
   "metadata": {},
   "outputs": [],
   "source": []
  },
  {
   "cell_type": "code",
   "execution_count": 46,
   "metadata": {},
   "outputs": [],
   "source": [
    "venues = []\n",
    "venue_names = []\n",
    "for result in results:\n",
    "    venues.append(result['venue'])\n",
    "    venue_names.append(result['venue']['name'])"
   ]
  },
  {
   "cell_type": "code",
   "execution_count": 47,
   "metadata": {},
   "outputs": [
    {
     "data": {
      "text/plain": [
       "18"
      ]
     },
     "execution_count": 47,
     "metadata": {},
     "output_type": "execute_result"
    }
   ],
   "source": [
    "len(venues)"
   ]
  },
  {
   "cell_type": "code",
   "execution_count": 48,
   "metadata": {},
   "outputs": [
    {
     "data": {
      "text/plain": [
       "['Japonessa',\n",
       " 'Urara Japanese Cuisine',\n",
       " 'Umi Sake House',\n",
       " 'Dragonfish Asian Cafe',\n",
       " 'Ohana',\n",
       " \"Shiro's\",\n",
       " 'Tsukushinbo',\n",
       " 'Maneki',\n",
       " 'Tamari Bar',\n",
       " 'Suika Seattle',\n",
       " 'Sansei',\n",
       " 'ricenroll',\n",
       " 'Cutters Crabhouse',\n",
       " 'Bento Kudasai',\n",
       " 'Sake Nomi',\n",
       " 'Aburiya Bento House',\n",
       " 'Yard House',\n",
       " \"Rocco's\"]"
      ]
     },
     "execution_count": 48,
     "metadata": {},
     "output_type": "execute_result"
    }
   ],
   "source": [
    "venue_names"
   ]
  },
  {
   "cell_type": "code",
   "execution_count": 49,
   "metadata": {},
   "outputs": [],
   "source": [
    "import pandas as pd\n",
    "df = pd.DataFrame(venues)"
   ]
  },
  {
   "cell_type": "code",
   "execution_count": 50,
   "metadata": {},
   "outputs": [
    {
     "data": {
      "text/html": [
       "<div>\n",
       "<style scoped>\n",
       "    .dataframe tbody tr th:only-of-type {\n",
       "        vertical-align: middle;\n",
       "    }\n",
       "\n",
       "    .dataframe tbody tr th {\n",
       "        vertical-align: top;\n",
       "    }\n",
       "\n",
       "    .dataframe thead th {\n",
       "        text-align: right;\n",
       "    }\n",
       "</style>\n",
       "<table border=\"1\" class=\"dataframe\">\n",
       "  <thead>\n",
       "    <tr style=\"text-align: right;\">\n",
       "      <th></th>\n",
       "      <th>0</th>\n",
       "      <th>1</th>\n",
       "      <th>2</th>\n",
       "      <th>3</th>\n",
       "      <th>4</th>\n",
       "    </tr>\n",
       "  </thead>\n",
       "  <tbody>\n",
       "    <tr>\n",
       "      <th>beenHere</th>\n",
       "      <td>{'count': 0, 'lastCheckinExpiredAt': 0, 'marke...</td>\n",
       "      <td>{'count': 0, 'lastCheckinExpiredAt': 0, 'marke...</td>\n",
       "      <td>{'count': 0, 'lastCheckinExpiredAt': 0, 'marke...</td>\n",
       "      <td>{'count': 0, 'lastCheckinExpiredAt': 0, 'marke...</td>\n",
       "      <td>{'count': 0, 'lastCheckinExpiredAt': 0, 'marke...</td>\n",
       "    </tr>\n",
       "    <tr>\n",
       "      <th>categories</th>\n",
       "      <td>[{'id': '4bf58dd8d48988d1d2941735', 'name': 'S...</td>\n",
       "      <td>[{'id': '4bf58dd8d48988d1d2941735', 'name': 'S...</td>\n",
       "      <td>[{'id': '4bf58dd8d48988d1d2941735', 'name': 'S...</td>\n",
       "      <td>[{'id': '4bf58dd8d48988d1d2941735', 'name': 'S...</td>\n",
       "      <td>[{'id': '4bf58dd8d48988d1d2941735', 'name': 'S...</td>\n",
       "    </tr>\n",
       "    <tr>\n",
       "      <th>contact</th>\n",
       "      <td>{}</td>\n",
       "      <td>{}</td>\n",
       "      <td>{}</td>\n",
       "      <td>{}</td>\n",
       "      <td>{}</td>\n",
       "    </tr>\n",
       "    <tr>\n",
       "      <th>delivery</th>\n",
       "      <td>NaN</td>\n",
       "      <td>{'id': '890863', 'url': 'https://www.grubhub.c...</td>\n",
       "      <td>NaN</td>\n",
       "      <td>{'id': '560755', 'url': 'https://www.grubhub.c...</td>\n",
       "      <td>NaN</td>\n",
       "    </tr>\n",
       "    <tr>\n",
       "      <th>hereNow</th>\n",
       "      <td>{'count': 1, 'summary': 'One other person is h...</td>\n",
       "      <td>{'count': 0, 'summary': 'Nobody here', 'groups...</td>\n",
       "      <td>{'count': 0, 'summary': 'Nobody here', 'groups...</td>\n",
       "      <td>{'count': 1, 'summary': 'One other person is h...</td>\n",
       "      <td>{'count': 0, 'summary': 'Nobody here', 'groups...</td>\n",
       "    </tr>\n",
       "    <tr>\n",
       "      <th>id</th>\n",
       "      <td>4c51cb5494790f4784aba7a1</td>\n",
       "      <td>595a95f735d3fc2a96f5a1df</td>\n",
       "      <td>447da2d6f964a520fb331fe3</td>\n",
       "      <td>40b52f80f964a5204b001fe3</td>\n",
       "      <td>40ccea80f964a52017011fe3</td>\n",
       "    </tr>\n",
       "    <tr>\n",
       "      <th>location</th>\n",
       "      <td>{'address': '1400 1st Ave', 'crossStreet': 'at...</td>\n",
       "      <td>{'address': '82 Stewart St', 'crossStreet': 'P...</td>\n",
       "      <td>{'address': '2230 1st Ave', 'crossStreet': 'bt...</td>\n",
       "      <td>{'address': '722 Pine St', 'crossStreet': 'at ...</td>\n",
       "      <td>{'address': '2207 1st Ave', 'crossStreet': 'bt...</td>\n",
       "    </tr>\n",
       "    <tr>\n",
       "      <th>name</th>\n",
       "      <td>Japonessa</td>\n",
       "      <td>Urara Japanese Cuisine</td>\n",
       "      <td>Umi Sake House</td>\n",
       "      <td>Dragonfish Asian Cafe</td>\n",
       "      <td>Ohana</td>\n",
       "    </tr>\n",
       "    <tr>\n",
       "      <th>photos</th>\n",
       "      <td>{'count': 0, 'groups': []}</td>\n",
       "      <td>{'count': 0, 'groups': []}</td>\n",
       "      <td>{'count': 0, 'groups': []}</td>\n",
       "      <td>{'count': 0, 'groups': []}</td>\n",
       "      <td>{'count': 0, 'groups': []}</td>\n",
       "    </tr>\n",
       "    <tr>\n",
       "      <th>stats</th>\n",
       "      <td>{'tipCount': 0, 'usersCount': 0, 'checkinsCoun...</td>\n",
       "      <td>{'tipCount': 0, 'usersCount': 0, 'checkinsCoun...</td>\n",
       "      <td>{'tipCount': 0, 'usersCount': 0, 'checkinsCoun...</td>\n",
       "      <td>{'tipCount': 0, 'usersCount': 0, 'checkinsCoun...</td>\n",
       "      <td>{'tipCount': 0, 'usersCount': 0, 'checkinsCoun...</td>\n",
       "    </tr>\n",
       "    <tr>\n",
       "      <th>venuePage</th>\n",
       "      <td>{'id': '53223536'}</td>\n",
       "      <td>NaN</td>\n",
       "      <td>NaN</td>\n",
       "      <td>{'id': '32689791'}</td>\n",
       "      <td>NaN</td>\n",
       "    </tr>\n",
       "    <tr>\n",
       "      <th>verified</th>\n",
       "      <td>True</td>\n",
       "      <td>False</td>\n",
       "      <td>False</td>\n",
       "      <td>True</td>\n",
       "      <td>False</td>\n",
       "    </tr>\n",
       "  </tbody>\n",
       "</table>\n",
       "</div>"
      ],
      "text/plain": [
       "                                                            0  \\\n",
       "beenHere    {'count': 0, 'lastCheckinExpiredAt': 0, 'marke...   \n",
       "categories  [{'id': '4bf58dd8d48988d1d2941735', 'name': 'S...   \n",
       "contact                                                    {}   \n",
       "delivery                                                  NaN   \n",
       "hereNow     {'count': 1, 'summary': 'One other person is h...   \n",
       "id                                   4c51cb5494790f4784aba7a1   \n",
       "location    {'address': '1400 1st Ave', 'crossStreet': 'at...   \n",
       "name                                                Japonessa   \n",
       "photos                             {'count': 0, 'groups': []}   \n",
       "stats       {'tipCount': 0, 'usersCount': 0, 'checkinsCoun...   \n",
       "venuePage                                  {'id': '53223536'}   \n",
       "verified                                                 True   \n",
       "\n",
       "                                                            1  \\\n",
       "beenHere    {'count': 0, 'lastCheckinExpiredAt': 0, 'marke...   \n",
       "categories  [{'id': '4bf58dd8d48988d1d2941735', 'name': 'S...   \n",
       "contact                                                    {}   \n",
       "delivery    {'id': '890863', 'url': 'https://www.grubhub.c...   \n",
       "hereNow     {'count': 0, 'summary': 'Nobody here', 'groups...   \n",
       "id                                   595a95f735d3fc2a96f5a1df   \n",
       "location    {'address': '82 Stewart St', 'crossStreet': 'P...   \n",
       "name                                   Urara Japanese Cuisine   \n",
       "photos                             {'count': 0, 'groups': []}   \n",
       "stats       {'tipCount': 0, 'usersCount': 0, 'checkinsCoun...   \n",
       "venuePage                                                 NaN   \n",
       "verified                                                False   \n",
       "\n",
       "                                                            2  \\\n",
       "beenHere    {'count': 0, 'lastCheckinExpiredAt': 0, 'marke...   \n",
       "categories  [{'id': '4bf58dd8d48988d1d2941735', 'name': 'S...   \n",
       "contact                                                    {}   \n",
       "delivery                                                  NaN   \n",
       "hereNow     {'count': 0, 'summary': 'Nobody here', 'groups...   \n",
       "id                                   447da2d6f964a520fb331fe3   \n",
       "location    {'address': '2230 1st Ave', 'crossStreet': 'bt...   \n",
       "name                                           Umi Sake House   \n",
       "photos                             {'count': 0, 'groups': []}   \n",
       "stats       {'tipCount': 0, 'usersCount': 0, 'checkinsCoun...   \n",
       "venuePage                                                 NaN   \n",
       "verified                                                False   \n",
       "\n",
       "                                                            3  \\\n",
       "beenHere    {'count': 0, 'lastCheckinExpiredAt': 0, 'marke...   \n",
       "categories  [{'id': '4bf58dd8d48988d1d2941735', 'name': 'S...   \n",
       "contact                                                    {}   \n",
       "delivery    {'id': '560755', 'url': 'https://www.grubhub.c...   \n",
       "hereNow     {'count': 1, 'summary': 'One other person is h...   \n",
       "id                                   40b52f80f964a5204b001fe3   \n",
       "location    {'address': '722 Pine St', 'crossStreet': 'at ...   \n",
       "name                                    Dragonfish Asian Cafe   \n",
       "photos                             {'count': 0, 'groups': []}   \n",
       "stats       {'tipCount': 0, 'usersCount': 0, 'checkinsCoun...   \n",
       "venuePage                                  {'id': '32689791'}   \n",
       "verified                                                 True   \n",
       "\n",
       "                                                            4  \n",
       "beenHere    {'count': 0, 'lastCheckinExpiredAt': 0, 'marke...  \n",
       "categories  [{'id': '4bf58dd8d48988d1d2941735', 'name': 'S...  \n",
       "contact                                                    {}  \n",
       "delivery                                                  NaN  \n",
       "hereNow     {'count': 0, 'summary': 'Nobody here', 'groups...  \n",
       "id                                   40ccea80f964a52017011fe3  \n",
       "location    {'address': '2207 1st Ave', 'crossStreet': 'bt...  \n",
       "name                                                    Ohana  \n",
       "photos                             {'count': 0, 'groups': []}  \n",
       "stats       {'tipCount': 0, 'usersCount': 0, 'checkinsCoun...  \n",
       "venuePage                                                 NaN  \n",
       "verified                                                False  "
      ]
     },
     "execution_count": 50,
     "metadata": {},
     "output_type": "execute_result"
    }
   ],
   "source": [
    "df.head().T"
   ]
  },
  {
   "cell_type": "code",
   "execution_count": 51,
   "metadata": {},
   "outputs": [
    {
     "data": {
      "text/plain": [
       "0     {'count': 1, 'summary': 'One other person is h...\n",
       "1     {'count': 0, 'summary': 'Nobody here', 'groups...\n",
       "2     {'count': 0, 'summary': 'Nobody here', 'groups...\n",
       "3     {'count': 1, 'summary': 'One other person is h...\n",
       "4     {'count': 0, 'summary': 'Nobody here', 'groups...\n",
       "5     {'count': 0, 'summary': 'Nobody here', 'groups...\n",
       "6     {'count': 0, 'summary': 'Nobody here', 'groups...\n",
       "7     {'count': 0, 'summary': 'Nobody here', 'groups...\n",
       "8     {'count': 0, 'summary': 'Nobody here', 'groups...\n",
       "9     {'count': 0, 'summary': 'Nobody here', 'groups...\n",
       "10    {'count': 0, 'summary': 'Nobody here', 'groups...\n",
       "11    {'count': 0, 'summary': 'Nobody here', 'groups...\n",
       "12    {'count': 0, 'summary': 'Nobody here', 'groups...\n",
       "13    {'count': 0, 'summary': 'Nobody here', 'groups...\n",
       "14    {'count': 0, 'summary': 'Nobody here', 'groups...\n",
       "15    {'count': 0, 'summary': 'Nobody here', 'groups...\n",
       "16    {'count': 1, 'summary': 'One other person is h...\n",
       "17    {'count': 0, 'summary': 'Nobody here', 'groups...\n",
       "Name: hereNow, dtype: object"
      ]
     },
     "execution_count": 51,
     "metadata": {},
     "output_type": "execute_result"
    }
   ],
   "source": [
    "df.hereNow"
   ]
  },
  {
   "cell_type": "code",
   "execution_count": 15,
   "metadata": {},
   "outputs": [
    {
     "data": {
      "text/plain": [
       "<pymongo.results.InsertManyResult at 0x113598f48>"
      ]
     },
     "execution_count": 15,
     "metadata": {},
     "output_type": "execute_result"
    }
   ],
   "source": [
    "import pymongo\n",
    "mc = pymongo.MongoClient() #URL of MongoDB atlas\n",
    "db = mc['foursquare']\n",
    "coll = db['pilates']\n",
    "\n",
    "coll.insert_many(venues)"
   ]
  },
  {
   "cell_type": "code",
   "execution_count": null,
   "metadata": {},
   "outputs": [],
   "source": [
    "list(coll.find())"
   ]
  }
 ],
 "metadata": {
  "kernelspec": {
   "display_name": "learn-env",
   "language": "python",
   "name": "learn-env"
  },
  "language_info": {
   "codemirror_mode": {
    "name": "ipython",
    "version": 3
   },
   "file_extension": ".py",
   "mimetype": "text/x-python",
   "name": "python",
   "nbconvert_exporter": "python",
   "pygments_lexer": "ipython3",
   "version": "3.6.6"
  }
 },
 "nbformat": 4,
 "nbformat_minor": 2
}
